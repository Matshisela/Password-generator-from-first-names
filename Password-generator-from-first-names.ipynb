{
 "cells": [
  {
   "cell_type": "code",
   "execution_count": 14,
   "metadata": {},
   "outputs": [],
   "source": [
    "# Password Generator\n",
    "def password_generator(x, y, z):\n",
    "    print(\"Your suggested password is: \" + str(x) + str(y) + str(z)) \n",
    "    "
   ]
  },
  {
   "cell_type": "code",
   "execution_count": 16,
   "metadata": {},
   "outputs": [
    {
     "name": "stdout",
     "output_type": "stream",
     "text": [
      "What is your name?:Precious\n",
      "Your suggested password is: Precious8$#%\n"
     ]
    }
   ],
   "source": [
    "name = input(\"What is your name?:\")\n",
    "y = len(name)\n",
    " \n",
    "if len(name) < 4:\n",
    "    z = \"$%#\"\n",
    "elif len(name)  > 5 and len(name) < 8:\n",
    "    z = \"%$@\"\n",
    "else :\n",
    "    z = \"$#%\"\n",
    "    \n",
    "password_generator(name, y, z)"
   ]
  },
  {
   "cell_type": "code",
   "execution_count": null,
   "metadata": {},
   "outputs": [],
   "source": []
  }
 ],
 "metadata": {
  "kernelspec": {
   "display_name": "Python 3",
   "language": "python",
   "name": "python3"
  },
  "language_info": {
   "codemirror_mode": {
    "name": "ipython",
    "version": 3
   },
   "file_extension": ".py",
   "mimetype": "text/x-python",
   "name": "python",
   "nbconvert_exporter": "python",
   "pygments_lexer": "ipython3",
   "version": "3.8.5"
  }
 },
 "nbformat": 4,
 "nbformat_minor": 4
}
